{
  "nbformat": 4,
  "nbformat_minor": 0,
  "metadata": {
    "colab": {
      "name": "CS4661AS05q1.ipynb",
      "provenance": []
    },
    "kernelspec": {
      "name": "python3",
      "display_name": "Python 3"
    },
    "language_info": {
      "name": "python"
    }
  },
  "cells": [
    {
      "cell_type": "markdown",
      "source": [
        "# CS 4661 Assignment 5\n"
      ],
      "metadata": {
        "id": "_AkJOlWdwAUP"
      }
    },
    {
      "cell_type": "markdown",
      "source": [
        "## Part A"
      ],
      "metadata": {
        "id": "TzNxxF3rwKDn"
      }
    },
    {
      "cell_type": "code",
      "execution_count": null,
      "metadata": {
        "id": "NDkvB8O2RzYI"
      },
      "outputs": [],
      "source": [
        "# import libraries and packages\n",
        "\n",
        "import numpy as np\n",
        "import pandas as pd\n",
        "\n",
        "from sklearn.ensemble import RandomForestClassifier\n",
        "from sklearn.metrics import accuracy_score\n",
        "from sklearn.model_selection import train_test_split\n",
        "import matplotlib.image as mpimg\n",
        "import matplotlib.pyplot as plt"
      ]
    },
    {
      "cell_type": "code",
      "source": [
        "from google.colab import drive \n",
        "drive.mount('/content/gdrive')"
      ],
      "metadata": {
        "colab": {
          "base_uri": "https://localhost:8080/"
        },
        "id": "OmnZCcUwa_5F",
        "outputId": "42f17fb7-cba8-4442-92ab-da980e4b17bc"
      },
      "execution_count": null,
      "outputs": [
        {
          "output_type": "stream",
          "name": "stdout",
          "text": [
            "Mounted at /content/gdrive\n"
          ]
        }
      ]
    },
    {
      "cell_type": "code",
      "source": [
        "df=pd.read_csv('gdrive/My Drive/05q1/label.csv')"
      ],
      "metadata": {
        "id": "aNUncz4idASe"
      },
      "execution_count": null,
      "outputs": []
    },
    {
      "cell_type": "code",
      "source": [
        "print(df)"
      ],
      "metadata": {
        "colab": {
          "base_uri": "https://localhost:8080/"
        },
        "id": "VAdJlCenRzWr",
        "outputId": "3913a9a6-5780-4789-b486-b32105a60da0"
      },
      "execution_count": null,
      "outputs": [
        {
          "output_type": "stream",
          "name": "stdout",
          "text": [
            "      name of the file  digit label\n",
            "0                    0            0\n",
            "1                    1            1\n",
            "2                    2            2\n",
            "3                    3            3\n",
            "4                    4            4\n",
            "...                ...          ...\n",
            "1792              1792            9\n",
            "1793              1793            0\n",
            "1794              1794            8\n",
            "1795              1795            9\n",
            "1796              1796            8\n",
            "\n",
            "[1797 rows x 2 columns]\n"
          ]
        }
      ]
    },
    {
      "cell_type": "code",
      "source": [
        "%matplotlib inline\n",
        "\n",
        "img = mpimg.imread('gdrive/My Drive/05q1/Digit/Digit/0.jpg')\n",
        "\n",
        "plt.imshow(img, cmap=plt.cm.gray_r, interpolation='nearest')"
      ],
      "metadata": {
        "colab": {
          "base_uri": "https://localhost:8080/",
          "height": 282
        },
        "id": "uJypBIsSWeyr",
        "outputId": "658a85b5-97ce-498f-9c6f-2cd18aa39cfc"
      },
      "execution_count": null,
      "outputs": [
        {
          "output_type": "execute_result",
          "data": {
            "text/plain": [
              "<matplotlib.image.AxesImage at 0x7f0717bc9450>"
            ]
          },
          "metadata": {},
          "execution_count": 5
        },
        {
          "output_type": "display_data",
          "data": {
            "image/png": "[encoded data removed]",
            "text/plain": [
              "<Figure size 432x288 with 1 Axes>"
            ]
          },
          "metadata": {
            "needs_background": "light"
          }
        }
      ]
    },
    {
      "cell_type": "markdown",
      "source": [
        "## Part B"
      ],
      "metadata": {
        "id": "qqLy6-wuwZGd"
      }
    },
    {
      "cell_type": "code",
      "source": [
        "num_pix = {}\n",
        "\n",
        "for x in range(1797):\n",
        "  temp_path = \"gdrive/My Drive/05q1/Digit/Digit/\" + str(x) + \".jpg\"\n",
        "  temp_img = mpimg.imread(temp_path)\n",
        "  temp_data = np.array( [np.array(temp_img[i]) for i in range(len(temp_img))] )\n",
        "  temp_pixels = temp_data.flatten().reshape(64)\n",
        "  temp_d = dict(enumerate(temp_pixels, 1))\n",
        "  if x == 0:\n",
        "    num_pix = pd.DataFrame(temp_d, index=[x])\n",
        "  else:\n",
        "    num_pix = num_pix.append(pd.DataFrame(temp_d, index=[x]), ignore_index = True)"
      ],
      "metadata": {
        "id": "oeG6-k8i6aJB"
      },
      "execution_count": null,
      "outputs": []
    },
    {
      "cell_type": "code",
      "source": [
        "print(num_pix)"
      ],
      "metadata": {
        "colab": {
          "base_uri": "https://localhost:8080/"
        },
        "id": "Br-sFboyIbt9",
        "outputId": "2fbb7c48-7ee7-4a39-e754-d875c31f1295"
      },
      "execution_count": null,
      "outputs": [
        {
          "output_type": "stream",
          "name": "stdout",
          "text": [
            "      1   2    3    4    5    6   7   8   ...  57  58   59   60   61   62   63  64\n",
            "0      0   2   88  217  158   21   0   0  ...   4   3   87  228  182    0    9   2\n",
            "1      0   0   11  187  210   78   5   0  ...   0   0    0  172  251  157    0  12\n",
            "2      0   0    5   59  240  199   2   0  ...   0  11    0   54  173  255  138   0\n",
            "3      6   0  108  255  213   13  10   0  ...   0   0  118  217  226  159    0   3\n",
            "4      0   6    0   34  160    7   7   0  ...   0   0    2   42  250   51    0   4\n",
            "...   ..  ..  ...  ...  ...  ...  ..  ..  ...  ..  ..  ...  ...  ...  ...  ...  ..\n",
            "1792   5   0   69  160  198  102   6   0  ...   3   1   39  219  246  130   13   0\n",
            "1793   6   0   96  255  206  164  22   0  ...   9   0   92  246  227   90    0   1\n",
            "1794   5   0   22  172  242   20   0   0  ...   3   0   27  152  211   87   21   0\n",
            "1795   7   0   22  158  114    0   8   2  ...  12   0   83  185  255  196    0   7\n",
            "1796   0  17  155  236  123   20   0   4  ...   0  17  137  184  214  198   26   0\n",
            "\n",
            "[1797 rows x 64 columns]\n"
          ]
        }
      ]
    },
    {
      "cell_type": "markdown",
      "source": [
        "## Part C"
      ],
      "metadata": {
        "id": "z5eSLsJSNlcv"
      }
    },
    {
      "cell_type": "code",
      "source": [
        "num_copy = num_pix.copy()\n",
        "\n",
        "final_df = pd.concat([num_copy,df], axis=1)\n",
        "\n",
        "print(final_df)"
      ],
      "metadata": {
        "colab": {
          "base_uri": "https://localhost:8080/"
        },
        "id": "3qYsdertQbd2",
        "outputId": "dea5f560-c792-46ef-ebb3-17e4d5748f9b"
      },
      "execution_count": null,
      "outputs": [
        {
          "output_type": "stream",
          "name": "stdout",
          "text": [
            "      1   2    3    4    5  ...   62   63  64  name of the file  digit label\n",
            "0     0   2   88  217  158  ...    0    9   2                 0            0\n",
            "1     0   0   11  187  210  ...  157    0  12                 1            1\n",
            "2     0   0    5   59  240  ...  255  138   0                 2            2\n",
            "3     6   0  108  255  213  ...  159    0   3                 3            3\n",
            "4     0   6    0   34  160  ...   51    0   4                 4            4\n",
            "...  ..  ..  ...  ...  ...  ...  ...  ...  ..               ...          ...\n",
            "1792  5   0   69  160  198  ...  130   13   0              1792            9\n",
            "1793  6   0   96  255  206  ...   90    0   1              1793            0\n",
            "1794  5   0   22  172  242  ...   87   21   0              1794            8\n",
            "1795  7   0   22  158  114  ...  196    0   7              1795            9\n",
            "1796  0  17  155  236  123  ...  198   26   0              1796            8\n",
            "\n",
            "[1797 rows x 66 columns]\n"
          ]
        }
      ]
    },
    {
      "cell_type": "code",
      "source": [
        "feature_cols = [1, 2, 3, 4, 5, 6, 7, 8, 9, 10, 11, 12, 13, 14, 15, 16, 17, 18, 19, 20, 21, 22, 23, 24, 25, 26, 27, 28, 29, 30, 31, 32, 33, 34, 35, 36, 37, 38, 39, 40, 41, 42, 43, 44, 45, 46, 47, 48, 49, 50, 51, 52, 53, 54, 55, 56, 57, 58, 59, 60, 61, 62, 63, 64]\n",
        "\n",
        "X = final_df[feature_cols]\n",
        "y = final_df['digit label']"
      ],
      "metadata": {
        "id": "VCIOXSylNk0I"
      },
      "execution_count": null,
      "outputs": []
    },
    {
      "cell_type": "code",
      "source": [
        "# split\n",
        "\n",
        "X_train, X_test, y_train, y_test = train_test_split(X, y, test_size=0.1, random_state=2)\n",
        "\n",
        "# print the size of the traning set:\n",
        "print(X_train.shape)\n",
        "print(y_train.shape)\n",
        "\n",
        "# print the size of the testing set:\n",
        "print(X_test.shape)\n",
        "print(y_test.shape)"
      ],
      "metadata": {
        "colab": {
          "base_uri": "https://localhost:8080/"
        },
        "id": "B-qZ3zx0UiP0",
        "outputId": "79686c89-bff9-49eb-bf18-9246c4b8ea06"
      },
      "execution_count": null,
      "outputs": [
        {
          "output_type": "stream",
          "name": "stdout",
          "text": [
            "(1617, 64)\n",
            "(1617,)\n",
            "(180, 64)\n",
            "(180,)\n"
          ]
        }
      ]
    },
    {
      "cell_type": "markdown",
      "source": [
        "## Part D"
      ],
      "metadata": {
        "id": "ZT4Hkag2Yb1l"
      }
    },
    {
      "cell_type": "code",
      "source": [
        "my_RandomForest = RandomForestClassifier(n_estimators = 19, bootstrap = True, random_state=2)\n",
        "\n",
        "my_RandomForest.fit(X_train, y_train)\n",
        "\n",
        "y_predict_lr_forest = my_RandomForest.predict(X_test)\n",
        "\n",
        "#Calculate Accuracy\n",
        "score_lr_three = accuracy_score(y_test, y_predict_lr_forest)\n",
        "\n",
        "print(\"Accuracy of Random Forest Classifier: \", score_lr_three)"
      ],
      "metadata": {
        "colab": {
          "base_uri": "https://localhost:8080/"
        },
        "id": "llAEKb8yV4Nm",
        "outputId": "c3d4ebfb-a80e-4ea7-cdea-c0e8d45e75ce"
      },
      "execution_count": null,
      "outputs": [
        {
          "output_type": "stream",
          "name": "stdout",
          "text": [
            "Accuracy of Random Forest Classifier:  0.9277777777777778\n"
          ]
        }
      ]
    },
    {
      "cell_type": "markdown",
      "source": [
        "## Part E"
      ],
      "metadata": {
        "id": "V28rbrCwjfqY"
      }
    },
    {
      "cell_type": "markdown",
      "source": [
        "*edit\n",
        "\n",
        "this is part of my new submission. if i am allowed to submit this a little late i hope that is okay. thank you!\n",
        "\n",
        "i realized i was using x_test instead of y_test and was confused until realizing my mistake"
      ],
      "metadata": {
        "id": "jG_JBNyErkS0"
      }
    },
    {
      "cell_type": "code",
      "source": [
        "a_final = y_test.copy()"
      ],
      "metadata": {
        "id": "jbtOV0t3kOzN"
      },
      "execution_count": null,
      "outputs": []
    },
    {
      "cell_type": "code",
      "source": [
        "int_a = 0\n",
        "for x in range(len(y_test)):\n",
        "  if y_test.iloc[x] == y_predict_lr_forest[x]:\n",
        "    temp_ind = y_test.index[x]\n",
        "    a_final = a_final.drop(temp_ind)"
      ],
      "metadata": {
        "id": "i1nM69-PlTMa"
      },
      "execution_count": null,
      "outputs": []
    },
    {
      "cell_type": "code",
      "source": [
        "img_ar = []\n",
        "\n",
        "for x in range(len(a_final)):\n",
        "  temp_path = \"gdrive/My Drive/05q1/Digit/Digit/\" + str(a_final.index[x]) + \".jpg\"\n",
        "  temp_img = mpimg.imread(temp_path)\n",
        "  img_ar.append(temp_img)\n",
        "  #plt.imshow(temp_img, cmap=plt.cm.gray_r, interpolation='nearest')"
      ],
      "metadata": {
        "id": "lEwxPZVkxuWQ"
      },
      "execution_count": null,
      "outputs": []
    },
    {
      "cell_type": "code",
      "source": [
        "%matplotlib inline\n",
        "fig = plt.figure(figsize=(50, 50))\n",
        "\n",
        "for x in range(len(img_ar)):\n",
        "  sub = fig.add_subplot(len(img_ar), 1, x + 1)\n",
        "  sub.imshow(img_ar[x], cmap=plt.cm.gray_r, interpolation='nearest')"
      ],
      "metadata": {
        "colab": {
          "base_uri": "https://localhost:8080/",
          "height": 1000
        },
        "id": "CTjuJBGC4neu",
        "outputId": "15429d84-be07-44a1-9f46-399525ba9aaa"
      },
      "execution_count": null,
      "outputs": [
        {
          "output_type": "display_data",
          "data": {
            "image/png": "[encoded data removed]",
            "text/plain": [
              "<Figure size 3600x3600 with 13 Axes>"
            ]
          },
          "metadata": {
            "needs_background": "light"
          }
        }
      ]
    }
  ]
}